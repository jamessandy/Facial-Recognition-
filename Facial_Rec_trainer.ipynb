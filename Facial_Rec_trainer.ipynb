{
  "nbformat": 4,
  "nbformat_minor": 0,
  "metadata": {
    "colab": {
      "name": "Facial Rec/trainer.ipynb",
      "version": "0.3.2",
      "provenance": []
    },
    "kernelspec": {
      "name": "python3",
      "display_name": "Python 3"
    }
  },
  "cells": [
    {
      "cell_type": "code",
      "metadata": {
        "id": "bhNt1kSxeoE_",
        "colab_type": "code",
        "colab": {}
      },
      "source": [
        "import os\n",
        "import cv2\n",
        "import numpy as np\n",
        "from PIL import Image\n",
        "\n",
        "#creating a recognizer\n",
        "\n",
        "recognizer = cv2.createLBPHFaceRecognizer()\n",
        "path = 'dataSet'\n",
        "\n",
        "def getImagesWithID(path):\n",
        "    imagePaths=[os.path.join(path, f) for f in os.listdir(path)]\n",
        "    faces=[]\n",
        "    IDs=[]\n",
        "    for imagePath in imagePaths:\n",
        "        faceImg = Image.open(imagePath).convert('L')\n",
        "        faceNp = np.array(faceImg, 'uint8')\n",
        "        ID=int(os.path.split(imagePath)[-1].split('.')[1])\n",
        "        faces.append(faceNp)\n",
        "        IDs.append(ID)\n",
        "        cv2.imshow('training', faceNp)\n",
        "        cv2.waitKey(10)\n",
        "    return np.array(IDs), faces\n",
        "\n",
        "Ids, faces = getImagesWithID(path)\n",
        "recognizer.train(faces, Ids)\n",
        "\n",
        "if not os.path.exists('trainer'):\n",
        "    os.makedirs('trainer')\n",
        "\n",
        "recognizer.save('trainer/trainer.yml')\n",
        "cv2.destroyAllWindows()"
      ],
      "execution_count": 0,
      "outputs": []
    }
  ]
}